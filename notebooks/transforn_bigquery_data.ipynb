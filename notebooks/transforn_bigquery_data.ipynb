{
 "cells": [
  {
   "cell_type": "code",
   "execution_count": 1,
   "id": "a458e4c4-18e3-4f24-99a8-49ec184cdd74",
   "metadata": {},
   "outputs": [
    {
     "data": {
      "text/plain": [
       "'D:\\\\ProjectsPyCharm\\\\strong_junior_job_search\\\\datatransfer-pipeline'"
      ]
     },
     "execution_count": 1,
     "metadata": {},
     "output_type": "execute_result"
    }
   ],
   "source": [
    "import os\n",
    "\n",
    "os.chdir(\"../\")\n",
    "os.getcwd()"
   ]
  },
  {
   "cell_type": "code",
   "execution_count": null,
   "id": "b886d75c-aeeb-405e-8968-9bfa30bc0f20",
   "metadata": {},
   "outputs": [
    {
     "name": "stdout",
     "output_type": "stream",
     "text": [
      "Successfully generated list of BigQuery dates. Dates length:  366\n"
     ]
    }
   ],
   "source": [
    "%run scripts/fetch_data.py"
   ]
  },
  {
   "cell_type": "code",
   "execution_count": null,
   "id": "f39ef30f-6c25-4d77-ba06-c9c6415bd733",
   "metadata": {},
   "outputs": [],
   "source": [
    "all_"
   ]
  }
 ],
 "metadata": {
  "kernelspec": {
   "display_name": "Python 3 (ipykernel)",
   "language": "python",
   "name": "python3"
  },
  "language_info": {
   "codemirror_mode": {
    "name": "ipython",
    "version": 3
   },
   "file_extension": ".py",
   "mimetype": "text/x-python",
   "name": "python",
   "nbconvert_exporter": "python",
   "pygments_lexer": "ipython3",
   "version": "3.12.2"
  }
 },
 "nbformat": 4,
 "nbformat_minor": 5
}
