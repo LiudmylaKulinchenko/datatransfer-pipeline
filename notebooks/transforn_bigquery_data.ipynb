{
 "cells": [
  {
   "cell_type": "code",
   "execution_count": 1,
   "id": "a458e4c4-18e3-4f24-99a8-49ec184cdd74",
   "metadata": {},
   "outputs": [
    {
     "data": {
      "text/plain": [
       "'D:\\\\ProjectsPyCharm\\\\strong_junior_job_search\\\\datatransfer-pipeline'"
      ]
     },
     "execution_count": 1,
     "metadata": {},
     "output_type": "execute_result"
    }
   ],
   "source": [
    "import os\n",
    "\n",
    "os.chdir(\"../\")\n",
    "os.getcwd()"
   ]
  },
  {
   "cell_type": "code",
   "execution_count": 3,
   "id": "b886d75c-aeeb-405e-8968-9bfa30bc0f20",
   "metadata": {},
   "outputs": [
    {
     "name": "stdout",
     "output_type": "stream",
     "text": [
      "Successfully generated list of BigQuery dates. Dates length:  366\n",
      "Dask DataFrame Structure:\n",
      "                visitorId visitNumber visitId visitStartTime    date  totals trafficSource  device geoNetwork customDimensions    hits fullVisitorId  userId channelGrouping socialEngagementType\n",
      "npartitions=366                                                                                                                                                                                  \n",
      "                    Int64       Int64   Int64          Int64  object  object        object  object     object           object  object        object  object          object               object\n",
      "                      ...         ...     ...            ...     ...     ...           ...     ...        ...              ...     ...           ...     ...             ...                  ...\n",
      "...                   ...         ...     ...            ...     ...     ...           ...     ...        ...              ...     ...           ...     ...             ...                  ...\n",
      "                      ...         ...     ...            ...     ...     ...           ...     ...        ...              ...     ...           ...     ...             ...                  ...\n",
      "                      ...         ...     ...            ...     ...     ...           ...     ...        ...              ...     ...           ...     ...             ...                  ...\n",
      "Dask Name: fromdelayed, 367 expressions\n",
      "Expr=FromDelayed(3d57453) <class 'dask_expr._collection.DataFrame'>\n",
      "Start time: 12:26:38\n",
      "Finish time: 12:26:47\n",
      "Execution: 8.558003 s\n"
     ]
    }
   ],
   "source": [
    "%run scripts/fetch_data.py"
   ]
  },
  {
   "cell_type": "code",
   "execution_count": 4,
   "id": "f39ef30f-6c25-4d77-ba06-c9c6415bd733",
   "metadata": {},
   "outputs": [
    {
     "data": {
      "text/html": [
       "<div><strong>Dask DataFrame Structure:</strong></div>\n",
       "<table border=\"1\" class=\"dataframe\">\n",
       "  <thead>\n",
       "    <tr style=\"text-align: right;\">\n",
       "      <th></th>\n",
       "      <th>visitorId</th>\n",
       "      <th>visitNumber</th>\n",
       "      <th>visitId</th>\n",
       "      <th>visitStartTime</th>\n",
       "      <th>date</th>\n",
       "      <th>totals</th>\n",
       "      <th>trafficSource</th>\n",
       "      <th>device</th>\n",
       "      <th>geoNetwork</th>\n",
       "      <th>customDimensions</th>\n",
       "      <th>hits</th>\n",
       "      <th>fullVisitorId</th>\n",
       "      <th>userId</th>\n",
       "      <th>channelGrouping</th>\n",
       "      <th>socialEngagementType</th>\n",
       "    </tr>\n",
       "    <tr>\n",
       "      <th>npartitions=366</th>\n",
       "      <th></th>\n",
       "      <th></th>\n",
       "      <th></th>\n",
       "      <th></th>\n",
       "      <th></th>\n",
       "      <th></th>\n",
       "      <th></th>\n",
       "      <th></th>\n",
       "      <th></th>\n",
       "      <th></th>\n",
       "      <th></th>\n",
       "      <th></th>\n",
       "      <th></th>\n",
       "      <th></th>\n",
       "      <th></th>\n",
       "    </tr>\n",
       "  </thead>\n",
       "  <tbody>\n",
       "    <tr>\n",
       "      <th></th>\n",
       "      <td>Int64</td>\n",
       "      <td>Int64</td>\n",
       "      <td>Int64</td>\n",
       "      <td>Int64</td>\n",
       "      <td>object</td>\n",
       "      <td>object</td>\n",
       "      <td>object</td>\n",
       "      <td>object</td>\n",
       "      <td>object</td>\n",
       "      <td>object</td>\n",
       "      <td>object</td>\n",
       "      <td>object</td>\n",
       "      <td>object</td>\n",
       "      <td>object</td>\n",
       "      <td>object</td>\n",
       "    </tr>\n",
       "    <tr>\n",
       "      <th></th>\n",
       "      <td>...</td>\n",
       "      <td>...</td>\n",
       "      <td>...</td>\n",
       "      <td>...</td>\n",
       "      <td>...</td>\n",
       "      <td>...</td>\n",
       "      <td>...</td>\n",
       "      <td>...</td>\n",
       "      <td>...</td>\n",
       "      <td>...</td>\n",
       "      <td>...</td>\n",
       "      <td>...</td>\n",
       "      <td>...</td>\n",
       "      <td>...</td>\n",
       "      <td>...</td>\n",
       "    </tr>\n",
       "    <tr>\n",
       "      <th>...</th>\n",
       "      <td>...</td>\n",
       "      <td>...</td>\n",
       "      <td>...</td>\n",
       "      <td>...</td>\n",
       "      <td>...</td>\n",
       "      <td>...</td>\n",
       "      <td>...</td>\n",
       "      <td>...</td>\n",
       "      <td>...</td>\n",
       "      <td>...</td>\n",
       "      <td>...</td>\n",
       "      <td>...</td>\n",
       "      <td>...</td>\n",
       "      <td>...</td>\n",
       "      <td>...</td>\n",
       "    </tr>\n",
       "    <tr>\n",
       "      <th></th>\n",
       "      <td>...</td>\n",
       "      <td>...</td>\n",
       "      <td>...</td>\n",
       "      <td>...</td>\n",
       "      <td>...</td>\n",
       "      <td>...</td>\n",
       "      <td>...</td>\n",
       "      <td>...</td>\n",
       "      <td>...</td>\n",
       "      <td>...</td>\n",
       "      <td>...</td>\n",
       "      <td>...</td>\n",
       "      <td>...</td>\n",
       "      <td>...</td>\n",
       "      <td>...</td>\n",
       "    </tr>\n",
       "    <tr>\n",
       "      <th></th>\n",
       "      <td>...</td>\n",
       "      <td>...</td>\n",
       "      <td>...</td>\n",
       "      <td>...</td>\n",
       "      <td>...</td>\n",
       "      <td>...</td>\n",
       "      <td>...</td>\n",
       "      <td>...</td>\n",
       "      <td>...</td>\n",
       "      <td>...</td>\n",
       "      <td>...</td>\n",
       "      <td>...</td>\n",
       "      <td>...</td>\n",
       "      <td>...</td>\n",
       "      <td>...</td>\n",
       "    </tr>\n",
       "  </tbody>\n",
       "</table>\n",
       "<div>Dask Name: fromdelayed, 367 expressions</div>"
      ],
      "text/plain": [
       "Dask DataFrame Structure:\n",
       "                visitorId visitNumber visitId visitStartTime    date  totals trafficSource  device geoNetwork customDimensions    hits fullVisitorId  userId channelGrouping socialEngagementType\n",
       "npartitions=366                                                                                                                                                                                  \n",
       "                    Int64       Int64   Int64          Int64  object  object        object  object     object           object  object        object  object          object               object\n",
       "                      ...         ...     ...            ...     ...     ...           ...     ...        ...              ...     ...           ...     ...             ...                  ...\n",
       "...                   ...         ...     ...            ...     ...     ...           ...     ...        ...              ...     ...           ...     ...             ...                  ...\n",
       "                      ...         ...     ...            ...     ...     ...           ...     ...        ...              ...     ...           ...     ...             ...                  ...\n",
       "                      ...         ...     ...            ...     ...     ...           ...     ...        ...              ...     ...           ...     ...             ...                  ...\n",
       "Dask Name: fromdelayed, 367 expressions\n",
       "Expr=FromDelayed(3d57453)"
      ]
     },
     "execution_count": 4,
     "metadata": {},
     "output_type": "execute_result"
    }
   ],
   "source": [
    "all_data_ddf"
   ]
  },
  {
   "cell_type": "code",
   "execution_count": null,
   "id": "1bb7e394-7ecf-4cc3-aee7-dbb9834fde67",
   "metadata": {},
   "outputs": [],
   "source": []
  }
 ],
 "metadata": {
  "kernelspec": {
   "display_name": "Python 3 (ipykernel)",
   "language": "python",
   "name": "python3"
  },
  "language_info": {
   "codemirror_mode": {
    "name": "ipython",
    "version": 3
   },
   "file_extension": ".py",
   "mimetype": "text/x-python",
   "name": "python",
   "nbconvert_exporter": "python",
   "pygments_lexer": "ipython3",
   "version": "3.12.2"
  }
 },
 "nbformat": 4,
 "nbformat_minor": 5
}
